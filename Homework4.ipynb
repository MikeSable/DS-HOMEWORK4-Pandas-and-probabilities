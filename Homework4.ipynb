{
 "cells": [
  {
   "cell_type": "markdown",
   "metadata": {},
   "source": [
    "Задача 1\n",
    "На основании данных портала \"Открытые данные России\" о результатах Химического анализа родника в Нескучном саду https://data.gov.ru/opendata/7708660670-rodnik-neskuchniy-sad средствами библиотеки Pandas сформируйте поле выводов по каждому анализирумомому параметру. Например, по показателю pH получен результат 8.4 единицы pH при нормативе от 6 до 9 единиц pH. Т.о. по данному показателю результат анализа в норме. Для решения задачи необходимо программно \"прочитать и понять\" значение столбца \"Норматив\" и выделенное численное значение сравнить с нормативом согласно логике норматива. Например, 6 >= pH >= 9. В итоговом DataFrame столбец \"Показатель\" сделайте индексным.\n",
    "Загзрузка DataFrame выполняется непосредственно c сайта \"Открытые данные России\" https://data.gov.ru/opendata/7708660670-rodnik-neskuchniy-sad/data-20160608T1215-structure-20160608T1215.csv (см. код ниже)."
   ]
  },
  {
   "cell_type": "code",
   "execution_count": 4,
   "metadata": {},
   "outputs": [],
   "source": [
    "import pandas as pd\n",
    "import numpy as np\n",
    "import requests\n",
    "import io\n",
    "import re"
   ]
  },
  {
   "cell_type": "markdown",
   "metadata": {},
   "source": [
    "Для начала сделаем столбец \"Показатель\" индексным и посмотрим дата фрейм"
   ]
  },
  {
   "cell_type": "code",
   "execution_count": 190,
   "metadata": {},
   "outputs": [
    {
     "data": {
      "text/html": [
       "<div>\n",
       "<style scoped>\n",
       "    .dataframe tbody tr th:only-of-type {\n",
       "        vertical-align: middle;\n",
       "    }\n",
       "\n",
       "    .dataframe tbody tr th {\n",
       "        vertical-align: top;\n",
       "    }\n",
       "\n",
       "    .dataframe thead th {\n",
       "        text-align: right;\n",
       "    }\n",
       "</style>\n",
       "<table border=\"1\" class=\"dataframe\">\n",
       "  <thead>\n",
       "    <tr style=\"text-align: right;\">\n",
       "      <th></th>\n",
       "      <th>Единица измерений</th>\n",
       "      <th>Результат анализа</th>\n",
       "      <th>Норматив</th>\n",
       "    </tr>\n",
       "    <tr>\n",
       "      <th>Показатель</th>\n",
       "      <th></th>\n",
       "      <th></th>\n",
       "      <th></th>\n",
       "    </tr>\n",
       "  </thead>\n",
       "  <tbody>\n",
       "    <tr>\n",
       "      <th>pH</th>\n",
       "      <td>единицы pH</td>\n",
       "      <td>8.4</td>\n",
       "      <td>в пределах 6-9</td>\n",
       "    </tr>\n",
       "    <tr>\n",
       "      <th>Запах</th>\n",
       "      <td>баллы</td>\n",
       "      <td>1</td>\n",
       "      <td>не более 2-3</td>\n",
       "    </tr>\n",
       "    <tr>\n",
       "      <th>Цветность</th>\n",
       "      <td>градусы</td>\n",
       "      <td>б/цвета</td>\n",
       "      <td>не более 30</td>\n",
       "    </tr>\n",
       "    <tr>\n",
       "      <th>Жёсткость</th>\n",
       "      <td>мг-эквл/дм3</td>\n",
       "      <td>9.199999999999999</td>\n",
       "      <td>в пределах 7-10</td>\n",
       "    </tr>\n",
       "    <tr>\n",
       "      <th>Аммиак и аммоний-ион (по азоту)</th>\n",
       "      <td>мг/дм3</td>\n",
       "      <td>0.42</td>\n",
       "      <td>не более 1,5</td>\n",
       "    </tr>\n",
       "    <tr>\n",
       "      <th>Нитриты (по NO2)</th>\n",
       "      <td>мг/дм3</td>\n",
       "      <td>0.017</td>\n",
       "      <td>не более 3,3</td>\n",
       "    </tr>\n",
       "    <tr>\n",
       "      <th>Нитраты (по NO3)</th>\n",
       "      <td>мг/дм3</td>\n",
       "      <td>24</td>\n",
       "      <td>не более 45</td>\n",
       "    </tr>\n",
       "    <tr>\n",
       "      <th>Фосфаты (P)</th>\n",
       "      <td>мг/дм3</td>\n",
       "      <td>0.36</td>\n",
       "      <td>не более 3,5</td>\n",
       "    </tr>\n",
       "    <tr>\n",
       "      <th>Хлориды (Cl)</th>\n",
       "      <td>мг/дм3</td>\n",
       "      <td>200</td>\n",
       "      <td>не более 350</td>\n",
       "    </tr>\n",
       "    <tr>\n",
       "      <th>Сульфаты (SO4)</th>\n",
       "      <td>мг/дм3</td>\n",
       "      <td>189.5</td>\n",
       "      <td>не более 500</td>\n",
       "    </tr>\n",
       "    <tr>\n",
       "      <th>Железо (включая хлорное железо) по Fe</th>\n",
       "      <td>мг/дм3</td>\n",
       "      <td>0.019</td>\n",
       "      <td>не более 0,3</td>\n",
       "    </tr>\n",
       "    <tr>\n",
       "      <th>Нефть</th>\n",
       "      <td>мг/дм3</td>\n",
       "      <td>0.55</td>\n",
       "      <td>не более 0,3</td>\n",
       "    </tr>\n",
       "    <tr>\n",
       "      <th>Общая минерализация (сухой остаток)</th>\n",
       "      <td>мг/дм3</td>\n",
       "      <td>590</td>\n",
       "      <td>не более 1000</td>\n",
       "    </tr>\n",
       "    <tr>\n",
       "      <th>Окисляемость перманганатная</th>\n",
       "      <td>мг/дм3</td>\n",
       "      <td>2</td>\n",
       "      <td>не более 0,5</td>\n",
       "    </tr>\n",
       "  </tbody>\n",
       "</table>\n",
       "</div>"
      ],
      "text/plain": [
       "                                      Единица измерений  Результат анализа  \\\n",
       "Показатель                                                                   \n",
       "pH                                           единицы pH                8.4   \n",
       "Запах                                             баллы                  1   \n",
       "Цветность                                       градусы            б/цвета   \n",
       "Жёсткость                                   мг-эквл/дм3  9.199999999999999   \n",
       "Аммиак и аммоний-ион (по азоту)                  мг/дм3               0.42   \n",
       "Нитриты (по NO2)                                 мг/дм3              0.017   \n",
       "Нитраты (по NO3)                                 мг/дм3                 24   \n",
       "Фосфаты (P)                                      мг/дм3               0.36   \n",
       "Хлориды (Cl)                                     мг/дм3                200   \n",
       "Сульфаты (SO4)                                   мг/дм3              189.5   \n",
       "Железо (включая хлорное железо) по Fe            мг/дм3              0.019   \n",
       "Нефть                                            мг/дм3               0.55   \n",
       "Общая минерализация (сухой остаток)              мг/дм3                590   \n",
       "Окисляемость перманганатная                      мг/дм3                  2   \n",
       "\n",
       "                                              Норматив  \n",
       "Показатель                                              \n",
       "pH                                      в пределах 6-9  \n",
       "Запах                                     не более 2-3  \n",
       "Цветность                                  не более 30  \n",
       "Жёсткость                              в пределах 7-10  \n",
       "Аммиак и аммоний-ион (по азоту)           не более 1,5  \n",
       "Нитриты (по NO2)                          не более 3,3  \n",
       "Нитраты (по NO3)                           не более 45  \n",
       "Фосфаты (P)                               не более 3,5  \n",
       "Хлориды (Cl)                              не более 350  \n",
       "Сульфаты (SO4)                            не более 500  \n",
       "Железо (включая хлорное железо) по Fe     не более 0,3  \n",
       "Нефть                                     не более 0,3  \n",
       "Общая минерализация (сухой остаток)      не более 1000  \n",
       "Окисляемость перманганатная               не более 0,5  "
      ]
     },
     "metadata": {},
     "output_type": "display_data"
    }
   ],
   "source": [
    "url =\"https://data.gov.ru/opendata/7708660670-rodnik-neskuchniy-sad/data-20160608T1215-structure-20160608T1215.csv\"\n",
    "s = requests.get(url).content\n",
    "df=pd.read_csv(io.StringIO(s.decode('UTF8')), index_col=0) #делаем столбец \"Показатель\" индексным\n",
    "display(df)"
   ]
  },
  {
   "cell_type": "markdown",
   "metadata": {},
   "source": [
    "Уберем пару лишних столбцов"
   ]
  },
  {
   "cell_type": "code",
   "execution_count": 191,
   "metadata": {},
   "outputs": [
    {
     "data": {
      "text/plain": [
       "Показатель\n",
       "pH                                        в пределах 6-9\n",
       "Запах                                       не более 2-3\n",
       "Цветность                                    не более 30\n",
       "Жёсткость                                в пределах 7-10\n",
       "Аммиак и аммоний-ион (по азоту)             не более 1,5\n",
       "Нитриты (по NO2)                            не более 3,3\n",
       "Нитраты (по NO3)                             не более 45\n",
       "Фосфаты (P)                                 не более 3,5\n",
       "Хлориды (Cl)                                не более 350\n",
       "Сульфаты (SO4)                              не более 500\n",
       "Железо (включая хлорное железо) по Fe       не более 0,3\n",
       "Нефть                                       не более 0,3\n",
       "Общая минерализация (сухой остаток)        не более 1000\n",
       "Окисляемость перманганатная                 не более 0,5\n",
       "Name: Норматив, dtype: object"
      ]
     },
     "execution_count": 191,
     "metadata": {},
     "output_type": "execute_result"
    }
   ],
   "source": [
    "df.pop('Единица измерений') #уберем из дата фрейма столбец \"Единица измерений\", так как он не несёт для нас полезной информации\n",
    "df.pop('Норматив')#Норматив убираем тоже, вместо него создадим новый список с референсными значениями показателей"
   ]
  },
  {
   "cell_type": "markdown",
   "metadata": {},
   "source": [
    "Создадим два списка с референсными значениями для анализа показателей воды"
   ]
  },
  {
   "cell_type": "code",
   "execution_count": 192,
   "metadata": {},
   "outputs": [],
   "source": [
    "list_norma_min = [6, 0, 0, 7, 0, 0, 0, 0, 0, 0, 0, 0, 0, 0]\n",
    "list_norma_max = [9, 3, 30, 10, 1.5, 3.3, 45, 3.5, 350, 500, 0.3, 0.3, 1000, 0.5] #создаем список референсных значений для параметров воды"
   ]
  },
  {
   "cell_type": "markdown",
   "metadata": {},
   "source": [
    "Добавляем в наш дата фрейм два получившихся столбца с минимальными и максимальными значениями показателей"
   ]
  },
  {
   "cell_type": "code",
   "execution_count": 193,
   "metadata": {},
   "outputs": [],
   "source": [
    "df['Min']=list_norma_min\n",
    "df['Max']=list_norma_max"
   ]
  },
  {
   "cell_type": "markdown",
   "metadata": {},
   "source": [
    "Создаем списки в качестве элементов которых выступают значения дата фрейма. Тип данных меняем со строки на число с плавающей запятой для дальнейшего сравнения, так как нельзя сравнить строчные значения. Список А - это анализируемые значение, Список В - минимальные референсные значения и Список С - максимальные референсные значения."
   ]
  },
  {
   "cell_type": "code",
   "execution_count": 194,
   "metadata": {},
   "outputs": [],
   "source": [
    "list_a=[]\n",
    "list_a.append(float(df.iloc[0,0]))\n",
    "list_a.append(float(df.iloc[1,0]))\n",
    "list_a.append(0) #исправляем ошибку в данных, присваиваем цифровое значение\n",
    "list_a.append(float(df.iloc[3,0]))\n",
    "list_a.append(float(df.iloc[4,0]))\n",
    "list_a.append(float(df.iloc[5,0]))\n",
    "list_a.append(float(df.iloc[6,0]))\n",
    "list_a.append(float(df.iloc[7,0]))\n",
    "list_a.append(float(df.iloc[8,0]))\n",
    "list_a.append(float(df.iloc[9,0]))\n",
    "list_a.append(float(df.iloc[10,0]))\n",
    "list_a.append(float(df.iloc[11,0]))\n",
    "list_a.append(float(df.iloc[12,0]))\n",
    "list_a.append(float(df.iloc[13,0]))"
   ]
  },
  {
   "cell_type": "code",
   "execution_count": 195,
   "metadata": {},
   "outputs": [],
   "source": [
    "list_b = []\n",
    "list_b.append(float(df.iloc[0,1]))\n",
    "list_b.append(float(df.iloc[1,1]))\n",
    "list_b.append(float(df.iloc[2,1]))\n",
    "list_b.append(float(df.iloc[3,1]))\n",
    "list_b.append(float(df.iloc[4,1]))\n",
    "list_b.append(float(df.iloc[5,1]))\n",
    "list_b.append(float(df.iloc[6,1]))\n",
    "list_b.append(float(df.iloc[7,1]))\n",
    "list_b.append(float(df.iloc[8,1]))\n",
    "list_b.append(float(df.iloc[9,1]))\n",
    "list_b.append(float(df.iloc[10,1]))\n",
    "list_b.append(float(df.iloc[11,1]))\n",
    "list_b.append(float(df.iloc[12,1]))\n",
    "list_b.append(float(df.iloc[13,1]))"
   ]
  },
  {
   "cell_type": "code",
   "execution_count": 196,
   "metadata": {},
   "outputs": [],
   "source": [
    "list_c=[]\n",
    "list_c.append(float(df.iloc[0,2]))\n",
    "list_c.append(float(df.iloc[1,2]))\n",
    "list_c.append(float(df.iloc[2,2]))\n",
    "list_c.append(float(df.iloc[3,2]))\n",
    "list_c.append(float(df.iloc[4,2]))\n",
    "list_c.append(float(df.iloc[5,2]))\n",
    "list_c.append(float(df.iloc[6,2]))\n",
    "list_c.append(float(df.iloc[7,2]))\n",
    "list_c.append(float(df.iloc[8,2]))\n",
    "list_c.append(float(df.iloc[9,2]))\n",
    "list_c.append(float(df.iloc[10,2]))\n",
    "list_c.append(float(df.iloc[11,2]))\n",
    "list_c.append(float(df.iloc[12,2]))\n",
    "list_c.append(float(df.iloc[13,2]))\n"
   ]
  },
  {
   "cell_type": "markdown",
   "metadata": {},
   "source": [
    "Создаем пустой список и сравниваем значения"
   ]
  },
  {
   "cell_type": "code",
   "execution_count": 211,
   "metadata": {},
   "outputs": [],
   "source": [
    "water_check_list = []"
   ]
  },
  {
   "cell_type": "code",
   "execution_count": 212,
   "metadata": {},
   "outputs": [],
   "source": [
    "for i in range(0,14):\n",
    "    if list_a[i]>=list_b[i] and list_a[i]<=list_c[i]:\n",
    "        water_check_list.append(\"Да\")\n",
    "    else:\n",
    "        water_check_list.append(\"Нет\")"
   ]
  },
  {
   "cell_type": "code",
   "execution_count": 213,
   "metadata": {},
   "outputs": [
    {
     "name": "stdout",
     "output_type": "stream",
     "text": [
      "['Да', 'Да', 'Да', 'Да', 'Да', 'Да', 'Да', 'Да', 'Да', 'Да', 'Да', 'Нет', 'Да', 'Нет']\n"
     ]
    }
   ],
   "source": [
    "print(water_check_list)"
   ]
  },
  {
   "cell_type": "markdown",
   "metadata": {},
   "source": [
    "Добавляем полученный список в качестве столбца в наш дата фрейм"
   ]
  },
  {
   "cell_type": "code",
   "execution_count": 214,
   "metadata": {},
   "outputs": [],
   "source": [
    "df['Соответствие']= water_check_list"
   ]
  },
  {
   "cell_type": "markdown",
   "metadata": {},
   "source": [
    "Убираем лишние столбцы из нашего дата фрейма"
   ]
  },
  {
   "cell_type": "code",
   "execution_count": 215,
   "metadata": {},
   "outputs": [
    {
     "data": {
      "text/html": [
       "<div>\n",
       "<style scoped>\n",
       "    .dataframe tbody tr th:only-of-type {\n",
       "        vertical-align: middle;\n",
       "    }\n",
       "\n",
       "    .dataframe tbody tr th {\n",
       "        vertical-align: top;\n",
       "    }\n",
       "\n",
       "    .dataframe thead th {\n",
       "        text-align: right;\n",
       "    }\n",
       "</style>\n",
       "<table border=\"1\" class=\"dataframe\">\n",
       "  <thead>\n",
       "    <tr style=\"text-align: right;\">\n",
       "      <th></th>\n",
       "      <th>Соответствие</th>\n",
       "    </tr>\n",
       "    <tr>\n",
       "      <th>Показатель</th>\n",
       "      <th></th>\n",
       "    </tr>\n",
       "  </thead>\n",
       "  <tbody>\n",
       "    <tr>\n",
       "      <th>pH</th>\n",
       "      <td>Да</td>\n",
       "    </tr>\n",
       "    <tr>\n",
       "      <th>Запах</th>\n",
       "      <td>Да</td>\n",
       "    </tr>\n",
       "    <tr>\n",
       "      <th>Цветность</th>\n",
       "      <td>Да</td>\n",
       "    </tr>\n",
       "    <tr>\n",
       "      <th>Жёсткость</th>\n",
       "      <td>Да</td>\n",
       "    </tr>\n",
       "    <tr>\n",
       "      <th>Аммиак и аммоний-ион (по азоту)</th>\n",
       "      <td>Да</td>\n",
       "    </tr>\n",
       "    <tr>\n",
       "      <th>Нитриты (по NO2)</th>\n",
       "      <td>Да</td>\n",
       "    </tr>\n",
       "    <tr>\n",
       "      <th>Нитраты (по NO3)</th>\n",
       "      <td>Да</td>\n",
       "    </tr>\n",
       "    <tr>\n",
       "      <th>Фосфаты (P)</th>\n",
       "      <td>Да</td>\n",
       "    </tr>\n",
       "    <tr>\n",
       "      <th>Хлориды (Cl)</th>\n",
       "      <td>Да</td>\n",
       "    </tr>\n",
       "    <tr>\n",
       "      <th>Сульфаты (SO4)</th>\n",
       "      <td>Да</td>\n",
       "    </tr>\n",
       "    <tr>\n",
       "      <th>Железо (включая хлорное железо) по Fe</th>\n",
       "      <td>Да</td>\n",
       "    </tr>\n",
       "    <tr>\n",
       "      <th>Нефть</th>\n",
       "      <td>Нет</td>\n",
       "    </tr>\n",
       "    <tr>\n",
       "      <th>Общая минерализация (сухой остаток)</th>\n",
       "      <td>Да</td>\n",
       "    </tr>\n",
       "    <tr>\n",
       "      <th>Окисляемость перманганатная</th>\n",
       "      <td>Нет</td>\n",
       "    </tr>\n",
       "  </tbody>\n",
       "</table>\n",
       "</div>"
      ],
      "text/plain": [
       "                                      Соответствие\n",
       "Показатель                                        \n",
       "pH                                              Да\n",
       "Запах                                           Да\n",
       "Цветность                                       Да\n",
       "Жёсткость                                       Да\n",
       "Аммиак и аммоний-ион (по азоту)                 Да\n",
       "Нитриты (по NO2)                                Да\n",
       "Нитраты (по NO3)                                Да\n",
       "Фосфаты (P)                                     Да\n",
       "Хлориды (Cl)                                    Да\n",
       "Сульфаты (SO4)                                  Да\n",
       "Железо (включая хлорное железо) по Fe           Да\n",
       "Нефть                                          Нет\n",
       "Общая минерализация (сухой остаток)             Да\n",
       "Окисляемость перманганатная                    Нет"
      ]
     },
     "execution_count": 215,
     "metadata": {},
     "output_type": "execute_result"
    }
   ],
   "source": [
    "df.pop('Результат анализа') #уберем из дата фрейма столбец \"Единица измерений\", так как он не несёт для нас полезной информации\n",
    "df.pop('Min')\n",
    "df.pop('Max')\n",
    "df"
   ]
  },
  {
   "cell_type": "markdown",
   "metadata": {},
   "source": [
    "Задача 2\n",
    "В ящике 5 апельсинов и 4 яблока. Наудачу выбираются 3 фрукта. Какова вероятность, что все три фрукта – апельсины?\n",
    "\n",
    "В интернете полученный аналитически ответ 0.119. Подтверждается ли он эксперементально?"
   ]
  },
  {
   "cell_type": "code",
   "execution_count": 258,
   "metadata": {},
   "outputs": [
    {
     "data": {
      "text/plain": [
       "'Яблоко достали: 0 раз'"
      ]
     },
     "metadata": {},
     "output_type": "display_data"
    },
    {
     "data": {
      "text/plain": [
       "'Апельсин достали: 3 раз'"
      ]
     },
     "metadata": {},
     "output_type": "display_data"
    }
   ],
   "source": [
    "box_fruit = [\"яблоко\", \"яблоко\",\"яблоко\",\"яблоко\",\"апельсин\", \"апельсин\", \"апельсин\",\"апельсин\",\"апельсин\"]\n",
    "N = 3\n",
    "cases = []\n",
    "i=1\n",
    "while i <= N:\n",
    "    fruit = np.random.choice(box_fruit)\n",
    "    cases.append(fruit)\n",
    "    i+=1\n",
    "        \n",
    "display(\"Яблоко достали: {} раз\".format(len(pd.DataFrame(cases, columns=[\"REZ\"]).query('REZ ==\"яблоко\"'))))\n",
    "display(\"Апельсин достали: {} раз\".format(len(pd.DataFrame(cases, columns=[\"REZ\"]).query('REZ ==\"апельсин\"'))))"
   ]
  },
  {
   "cell_type": "markdown",
   "metadata": {},
   "source": [
    "Аналитически можно посчитать как произведение вероятностей 5/9 на 4/8 на 3/7 = 0,119. На практике вероятность выпадения кажется чаще.\n",
    "Также можно сделать другим способом проще:"
   ]
  },
  {
   "cell_type": "code",
   "execution_count": 267,
   "metadata": {},
   "outputs": [
    {
     "data": {
      "text/plain": [
       "array(['апельсин', 'апельсин', 'апельсин'], dtype='<U8')"
      ]
     },
     "execution_count": 267,
     "metadata": {},
     "output_type": "execute_result"
    }
   ],
   "source": [
    "box_fruit2 = np.array([\"яблоко\",\"апельсин\"])\n",
    "probabilities = [0.45, 0.55]\n",
    "np.random.choice(box_fruit2, 3, p=probabilities)"
   ]
  },
  {
   "cell_type": "markdown",
   "metadata": {},
   "source": [
    "Задача 3\n",
    "Мастер, имея 10 деталей, из которых 3 – нестандартных, проверяет детали одну за другой, пока ему не попадется стандартная. Какова вероятность, что он проверит ровно две детали?\n",
    "\n",
    "В интернете полученный аналитически ответ 7/30 или 0.23333. Подтверждается ли он эксперементально?"
   ]
  },
  {
   "cell_type": "code",
   "execution_count": 78,
   "metadata": {},
   "outputs": [
    {
     "name": "stdout",
     "output_type": "stream",
     "text": [
      "['Нестандартная', 'Стандартная']\n"
     ]
    }
   ],
   "source": [
    "detail_box = [\"Стандартная\", \"Стандартная\",\"Стандартная\",\"Стандартная\",\"Стандартная\",\"Стандартная\",\"Стандартная\",\"Нестандартная\",\"Нестандартная\",\"Нестандартная\", ]\n",
    "cases1 = []\n",
    "for number in range(10):\n",
    "    number = number+1\n",
    "    detail = np.random.choice(detail_box)\n",
    "    cases1.append(detail)\n",
    "    if detail == \"Нестандартная\":\n",
    "        pass\n",
    "    elif detail == \"Стандартная\":\n",
    "        break\n",
    "    \n",
    "   \n",
    "print(cases1)"
   ]
  }
 ],
 "metadata": {
  "interpreter": {
   "hash": "8a57cc74ccca34d9f0e4ac38bc6379c7d9198f6db866ba57d3f36edadb5f9cfc"
  },
  "kernelspec": {
   "display_name": "Python 3.9.7 64-bit ('base': conda)",
   "language": "python",
   "name": "python3"
  },
  "language_info": {
   "codemirror_mode": {
    "name": "ipython",
    "version": 3
   },
   "file_extension": ".py",
   "mimetype": "text/x-python",
   "name": "python",
   "nbconvert_exporter": "python",
   "pygments_lexer": "ipython3",
   "version": "3.9.7"
  },
  "orig_nbformat": 4
 },
 "nbformat": 4,
 "nbformat_minor": 2
}
